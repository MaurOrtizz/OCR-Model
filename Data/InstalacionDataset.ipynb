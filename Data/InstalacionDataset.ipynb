{
 "cells": [
  {
   "cell_type": "markdown",
   "id": "a73fadf9-ebfb-4452-9c0e-13d7c205863b",
   "metadata": {},
   "source": [
    "# Instalación del Dataset usando la API de Kaggle"
   ]
  },
  {
   "cell_type": "code",
   "execution_count": null,
   "id": "57113fbe-8525-406f-8952-aff2dbbdd9e6",
   "metadata": {},
   "outputs": [],
   "source": [
    "#Instalamos la libreria de Kaggle en Python usando pip\n",
    "!pip install kaggle"
   ]
  },
  {
   "cell_type": "code",
   "execution_count": null,
   "id": "62d13607-92af-4681-919d-4f0f565b3a12",
   "metadata": {},
   "outputs": [],
   "source": [
    "#Creamos un directario para guardar el token de Kaggle\n",
    "import os\n",
    "\n",
    "os.path.expanduser(\"~/.kaggle\")"
   ]
  },
  {
   "cell_type": "markdown",
   "id": "106f4118-c984-4c6f-bace-eb335b1593f2",
   "metadata": {},
   "source": [
    "# Para el paso siguiente se necesita tener una cuenta de Kaggle\n",
    "En tu cuenta te diriges a Configuración/API/Crear nuevo token. <br> Esto va a descargar el archivo kaggle.json que tendrás que ubicar dentro de la carpeta \"kaggle\" en este directorio"
   ]
  },
  {
   "cell_type": "code",
   "execution_count": null,
   "id": "07156e7d-8da8-4bf0-97fa-038715d3a719",
   "metadata": {},
   "outputs": [],
   "source": [
    "#Descargamos el dataset usando la CLI de Kaggle\n",
    "!kaggle datasets download robikscube/textocr-text-extraction-from-images-dataset\n",
    "\n",
    "#Link del dataset:\n",
    "# https://www.kaggle.com/datasets/robikscube/textocr-text-extraction-from-images-dataset"
   ]
  },
  {
   "cell_type": "code",
   "execution_count": null,
   "id": "19c8c3e8-301f-4013-99f1-da8e04c0c9bf",
   "metadata": {},
   "outputs": [],
   "source": [
    "#Codigo para extraer archivo --proximamente--\n",
    "import zipfile\n",
    "import os\n",
    "zip_path = \"textocr-text-extraction-from-images-dataset.zip\"\n",
    "extract_dir = \"textocr_dataset\"\n",
    "\n",
    "os.makedirs(extract_dir, exist_ok=True)\n",
    "\n",
    "with zipfile.ZipFile(zip_path, 'r') as zip_ref:\n",
    "    zip_ref.extractall(extract_dir)"
   ]
  },
  {
   "cell_type": "code",
   "execution_count": null,
   "id": "656cd55a-71e1-424b-9efe-bd8129f93c4a",
   "metadata": {},
   "outputs": [],
   "source": [
    "#Instalamos la librería de pandas\n",
    "!pip install pandas"
   ]
  },
  {
   "cell_type": "code",
   "execution_count": 2,
   "id": "640e3d9e-6a6b-4183-a2c8-b10cee1fee72",
   "metadata": {},
   "outputs": [
    {
     "ename": "NameError",
     "evalue": "name 'img_data' is not defined",
     "output_type": "error",
     "traceback": [
      "\u001b[31m---------------------------------------------------------------------------\u001b[39m",
      "\u001b[31mNameError\u001b[39m                                 Traceback (most recent call last)",
      "\u001b[36mCell\u001b[39m\u001b[36m \u001b[39m\u001b[32mIn[2]\u001b[39m\u001b[32m, line 11\u001b[39m\n\u001b[32m      8\u001b[39m img = os.listdir(img_path)\n\u001b[32m     10\u001b[39m \u001b[38;5;66;03m# Convertimos la lista a un set\u001b[39;00m\n\u001b[32m---> \u001b[39m\u001b[32m11\u001b[39m img_ids = \u001b[38;5;28mset\u001b[39m(\u001b[43mimg_data\u001b[49m)\n",
      "\u001b[31mNameError\u001b[39m: name 'img_data' is not defined"
     ]
    }
   ],
   "source": [
    "import os\n",
    "import pandas as pd\n",
    "\n",
    "# Ruta al directorio de imágenes\n",
    "img_path = \"textocr_dataset/train_val_images/train_images\"\n",
    "\n",
    "# Agregamos los nombres de los archivos\n",
    "img = os.listdir(img_path)\n",
    "\n",
    "# Convertimos la lista a un set\n",
    "img_ids = set(img_data)"
   ]
  },
  {
   "cell_type": "code",
   "execution_count": 3,
   "id": "e0876950-10ae-4fec-8ef4-a1aad33a17a3",
   "metadata": {},
   "outputs": [
    {
     "name": "stdout",
     "output_type": "stream",
     "text": [
      "       Unnamed: 0                id  width  height    set  \\\n",
      "0               0  a4ea732cd3d5948a    840    1024  train   \n",
      "1               1  4bf43a7b2a898044   1024     683  train   \n",
      "2               2  1b55b309b0f50d02   1024     683  train   \n",
      "3               3  00c359f294f7dcd9   1024     680  train   \n",
      "4               4  04b5a37f762b0f51    768    1024  train   \n",
      "...           ...               ...    ...     ...    ...   \n",
      "21773       21773  d13b7ec72bd5eed5   1024     683  train   \n",
      "21774       21774  0022933cdceee189   1024     554  train   \n",
      "21775       21775  6029c75e0325d164   1024     768  train   \n",
      "21776       21776  0ebbecdc46b78d42   1024     681  train   \n",
      "21777       21777  a37e1fb026b80a6d   1024     683  train   \n",
      "\n",
      "                        file_name  \n",
      "0      train/a4ea732cd3d5948a.jpg  \n",
      "1      train/4bf43a7b2a898044.jpg  \n",
      "2      train/1b55b309b0f50d02.jpg  \n",
      "3      train/00c359f294f7dcd9.jpg  \n",
      "4      train/04b5a37f762b0f51.jpg  \n",
      "...                           ...  \n",
      "21773  train/d13b7ec72bd5eed5.jpg  \n",
      "21774  train/0022933cdceee189.jpg  \n",
      "21775  train/6029c75e0325d164.jpg  \n",
      "21776  train/0ebbecdc46b78d42.jpg  \n",
      "21777  train/a37e1fb026b80a6d.jpg  \n",
      "\n",
      "[21778 rows x 6 columns]\n",
      "         Unnamed: 0                   id          image_id  \\\n",
      "0                 0   a4ea732cd3d5948a_1  a4ea732cd3d5948a   \n",
      "1                 1   a4ea732cd3d5948a_2  a4ea732cd3d5948a   \n",
      "2                 2   a4ea732cd3d5948a_3  a4ea732cd3d5948a   \n",
      "3                 3   a4ea732cd3d5948a_4  a4ea732cd3d5948a   \n",
      "4                 4   a4ea732cd3d5948a_5  a4ea732cd3d5948a   \n",
      "...             ...                  ...               ...   \n",
      "1052349     1052349  0ebbecdc46b78d42_15  0ebbecdc46b78d42   \n",
      "1052350     1052350   a37e1fb026b80a6d_1  a37e1fb026b80a6d   \n",
      "1052351     1052351   a37e1fb026b80a6d_2  a37e1fb026b80a6d   \n",
      "1052352     1052352   a37e1fb026b80a6d_3  a37e1fb026b80a6d   \n",
      "1052353     1052353   a37e1fb026b80a6d_4  a37e1fb026b80a6d   \n",
      "\n",
      "                                     bbox  utf8_string  \\\n",
      "0            [525.83, 3.4, 197.64, 33.94]  Performance   \n",
      "1           [534.67, 64.68, 91.22, 38.19]        Sport   \n",
      "2           [626.95, 63.62, 96.52, 31.82]        Watch   \n",
      "3           [577.4, 141.87, 147.13, 43.1]   ...period.   \n",
      "4           [391.03, 163.9, 60.82, 38.65]            .   \n",
      "...                                   ...          ...   \n",
      "1052349     [267.47, -0.14, 28.18, 27.47]            .   \n",
      "1052350  [331.69, 462.84, 417.31, 201.08]          RÖR   \n",
      "1052351    [876.75, 285.63, 36.98, 10.28]      Moderna   \n",
      "1052352    [913.53, 282.86, 32.23, 11.27]       Museet   \n",
      "1052353    [883.47, 302.44, 68.42, 10.88]            .   \n",
      "\n",
      "                                                    points      area  \n",
      "0        [525.83, 3.4, 723.47, 7.29, 722.76, 36.99, 525...   6707.90  \n",
      "1        [535.73, 64.68, 623.41, 67.51, 625.89, 102.87,...   3483.69  \n",
      "2        [626.95, 63.62, 721.7, 63.62, 723.47, 95.44, 6...   3071.27  \n",
      "3        [580.02, 143.61, 724.53, 141.87, 723.66, 184.9...   6341.30  \n",
      "4        [395.2, 163.9, 451.85, 191.94, 445.59, 202.55,...   2350.69  \n",
      "...                                                    ...       ...  \n",
      "1052349  [295.65, -0.14, 295.65, 27.33, 267.47, 27.03, ...    774.10  \n",
      "1052350  [331.69, 466.97, 749.0, 462.84, 749.0, 659.79,...  83912.69  \n",
      "1052351  [876.75, 287.61, 912.34, 285.63, 913.73, 293.9...    380.15  \n",
      "1052352  [913.53, 284.84, 944.77, 282.86, 945.76, 292.3...    363.23  \n",
      "1052353  [883.47, 304.02, 950.71, 302.44, 951.89, 311.5...    744.41  \n",
      "\n",
      "[1052354 rows x 7 columns]\n"
     ]
    }
   ],
   "source": [
    "#Leemos el contenido de los csv\n",
    "img_df = pd.read_csv(\"textocr_dataset/img.csv\")\n",
    "annot_df = pd.read_csv(\"textocr_dataset/annot.csv\")\n",
    "\n",
    "#Convertimos la columna 'id' de img_df y 'image_id' de annot_df en string\n",
    "img_df['id'] = img_df['id'].astype(str)\n",
    "annot_df['image_id'] = annot_df['image_id'].astype(str)\n",
    "\n",
    "print(img_df)\n",
    "print(annot_df)"
   ]
  },
  {
   "cell_type": "code",
   "execution_count": null,
   "id": "434225a9-ca84-4240-a160-35cacf6b125a",
   "metadata": {},
   "outputs": [],
   "source": [
    "# Tomamos los primeros n registros de img_df\n",
    "n = 10000\n",
    "img_df = img_df.head(n)\n",
    "\n",
    "annot_df = annot_df[annot_df['image_id'].isin(set(img_df['id']))]"
   ]
  },
  {
   "cell_type": "code",
   "execution_count": 5,
   "id": "e45f11c9-8a14-4828-b1a4-a771ffb29e3f",
   "metadata": {},
   "outputs": [
    {
     "name": "stdout",
     "output_type": "stream",
     "text": [
      "Index(['Unnamed: 0', 'id', 'width', 'height', 'file_name'], dtype='object')\n"
     ]
    }
   ],
   "source": [
    "#Como todos las imagenes estan marcados como 'train' en la columna 'set' la vamos a quitar\n",
    "img_df.drop(columns=['set'], inplace=True)\n",
    "print(img_df.columns)"
   ]
  },
  {
   "cell_type": "code",
   "execution_count": 46,
   "id": "8ea10673-46b7-4c56-80ef-d6338f08b01c",
   "metadata": {},
   "outputs": [],
   "source": [
    "from shutil import copyfile\n",
    "\n",
    "carpeta = \"images\"\n",
    "os.makedirs(carpeta, exist_ok=True)\n",
    "\n",
    "# Sacamos la lista de ids de img_df\n",
    "img_ids = img_df['id'].tolist()\n",
    "\n",
    "# Copiamos las imagenes de img_df a un nuevo folder\n",
    "for i_id in img_ids:\n",
    "    src = os.path.join(img_path, i_id + \".jpg\")\n",
    "    dst = os.path.join(carpeta, i_id + \".jpg\")\n",
    "    if os.path.exists(src):\n",
    "        copyfile(src, dst)"
   ]
  },
  {
   "cell_type": "code",
   "execution_count": 6,
   "id": "bdf39ec6-8ee8-4a47-9676-28dde7c6b5f1",
   "metadata": {},
   "outputs": [],
   "source": [
    "#Exportamos los dataframes a csv para empezar el preprocesamiento en otro notebook\n",
    "img_df.to_csv(\"imagenes.csv\", index=False)\n",
    "annot_df.to_csv(\"anotaciones.csv\", index=False)"
   ]
  }
 ],
 "metadata": {
  "kernelspec": {
   "display_name": "Python 3 (ipykernel)",
   "language": "python",
   "name": "python3"
  },
  "language_info": {
   "codemirror_mode": {
    "name": "ipython",
    "version": 3
   },
   "file_extension": ".py",
   "mimetype": "text/x-python",
   "name": "python",
   "nbconvert_exporter": "python",
   "pygments_lexer": "ipython3",
   "version": "3.12.4"
  }
 },
 "nbformat": 4,
 "nbformat_minor": 5
}
