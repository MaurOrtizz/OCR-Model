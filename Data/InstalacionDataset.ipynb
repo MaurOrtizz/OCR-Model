{
 "cells": [
  {
   "cell_type": "markdown",
   "id": "a73fadf9-ebfb-4452-9c0e-13d7c205863b",
   "metadata": {},
   "source": [
    "# Instalación del Dataset usando la API de Kaggle"
   ]
  },
  {
   "cell_type": "code",
   "execution_count": 2,
   "id": "57113fbe-8525-406f-8952-aff2dbbdd9e6",
   "metadata": {},
   "outputs": [
    {
     "name": "stdout",
     "output_type": "stream",
     "text": [
      "Requirement already satisfied: kaggle in d:\\documentos\\intart\\proyecto\\venv\\lib\\site-packages (1.7.4.5)\n",
      "Requirement already satisfied: bleach in d:\\documentos\\intart\\proyecto\\venv\\lib\\site-packages (from kaggle) (6.2.0)\n",
      "Requirement already satisfied: certifi>=14.05.14 in d:\\documentos\\intart\\proyecto\\venv\\lib\\site-packages (from kaggle) (2025.4.26)\n",
      "Requirement already satisfied: charset-normalizer in d:\\documentos\\intart\\proyecto\\venv\\lib\\site-packages (from kaggle) (3.4.2)\n",
      "Requirement already satisfied: idna in d:\\documentos\\intart\\proyecto\\venv\\lib\\site-packages (from kaggle) (3.10)\n",
      "Requirement already satisfied: protobuf in d:\\documentos\\intart\\proyecto\\venv\\lib\\site-packages (from kaggle) (6.31.1)\n",
      "Requirement already satisfied: python-dateutil>=2.5.3 in d:\\documentos\\intart\\proyecto\\venv\\lib\\site-packages (from kaggle) (2.9.0.post0)\n",
      "Requirement already satisfied: python-slugify in d:\\documentos\\intart\\proyecto\\venv\\lib\\site-packages (from kaggle) (8.0.4)\n",
      "Requirement already satisfied: requests in d:\\documentos\\intart\\proyecto\\venv\\lib\\site-packages (from kaggle) (2.32.3)\n",
      "Requirement already satisfied: setuptools>=21.0.0 in d:\\documentos\\intart\\proyecto\\venv\\lib\\site-packages (from kaggle) (80.9.0)\n",
      "Requirement already satisfied: six>=1.10 in d:\\documentos\\intart\\proyecto\\venv\\lib\\site-packages (from kaggle) (1.17.0)\n",
      "Requirement already satisfied: text-unidecode in d:\\documentos\\intart\\proyecto\\venv\\lib\\site-packages (from kaggle) (1.3)\n",
      "Requirement already satisfied: tqdm in d:\\documentos\\intart\\proyecto\\venv\\lib\\site-packages (from kaggle) (4.67.1)\n",
      "Requirement already satisfied: urllib3>=1.15.1 in d:\\documentos\\intart\\proyecto\\venv\\lib\\site-packages (from kaggle) (2.4.0)\n",
      "Requirement already satisfied: webencodings in d:\\documentos\\intart\\proyecto\\venv\\lib\\site-packages (from kaggle) (0.5.1)\n",
      "Requirement already satisfied: colorama in d:\\documentos\\intart\\proyecto\\venv\\lib\\site-packages (from tqdm->kaggle) (0.4.6)\n"
     ]
    },
    {
     "name": "stderr",
     "output_type": "stream",
     "text": [
      "\n",
      "[notice] A new release of pip is available: 24.0 -> 25.1.1\n",
      "[notice] To update, run: python.exe -m pip install --upgrade pip\n"
     ]
    }
   ],
   "source": [
    "#Instalamos la libreria de Kaggle en Python usando pip\n",
    "!pip install kaggle"
   ]
  },
  {
   "cell_type": "code",
   "execution_count": 6,
   "id": "62d13607-92af-4681-919d-4f0f565b3a12",
   "metadata": {},
   "outputs": [
    {
     "ename": "SyntaxError",
     "evalue": "unterminated string literal (detected at line 4) (584597668.py, line 4)",
     "output_type": "error",
     "traceback": [
      "  \u001b[36mCell\u001b[39m\u001b[36m \u001b[39m\u001b[32mIn[6]\u001b[39m\u001b[32m, line 4\u001b[39m\n\u001b[31m    \u001b[39m\u001b[31mos.path.expanduser(\"~/.kaggle)\u001b[39m\n                       ^\n\u001b[31mSyntaxError\u001b[39m\u001b[31m:\u001b[39m unterminated string literal (detected at line 4)\n"
     ]
    }
   ],
   "source": [
    "#Creamos un directario para guardar el token de Kaggle\n",
    "import os\n",
    "\n",
    "os.path.expanduser(\"~/.kaggle)"
   ]
  },
  {
   "cell_type": "markdown",
   "id": "106f4118-c984-4c6f-bace-eb335b1593f2",
   "metadata": {},
   "source": [
    "# Para el paso siguiente se necesita tener una cuenta de Kaggle\n",
    "En tu cuenta te diriges a Configuración/API/Crear nuevo token. <br> Esto va a descargar el archivo kaggle.json que tendrás que ubicar dentro de la carpeta \"kaggle\" en este directorio"
   ]
  },
  {
   "cell_type": "code",
   "execution_count": null,
   "id": "07156e7d-8da8-4bf0-97fa-038715d3a719",
   "metadata": {},
   "outputs": [],
   "source": [
    "#Descargamos el dataset \n",
    "!kaggle datasets download -d robikscube/textocr-text-extraction-from-images-dataset\n",
    "\n",
    "\n",
    "#Codigo para extraer archivo --proximamente--"
   ]
  },
  {
   "cell_type": "code",
   "execution_count": null,
   "id": "19c8c3e8-301f-4013-99f1-da8e04c0c9bf",
   "metadata": {},
   "outputs": [],
   "source": []
  }
 ],
 "metadata": {
  "kernelspec": {
   "display_name": "Python 3 (ipykernel)",
   "language": "python",
   "name": "python3"
  },
  "language_info": {
   "codemirror_mode": {
    "name": "ipython",
    "version": 3
   },
   "file_extension": ".py",
   "mimetype": "text/x-python",
   "name": "python",
   "nbconvert_exporter": "python",
   "pygments_lexer": "ipython3",
   "version": "3.12.4"
  }
 },
 "nbformat": 4,
 "nbformat_minor": 5
}
