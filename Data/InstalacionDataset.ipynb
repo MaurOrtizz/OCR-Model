{
 "cells": [
  {
   "cell_type": "markdown",
   "id": "a73fadf9-ebfb-4452-9c0e-13d7c205863b",
   "metadata": {},
   "source": [
    "# Instalación del Dataset usando la API de Kaggle"
   ]
  },
  {
   "cell_type": "code",
   "execution_count": 2,
   "id": "57113fbe-8525-406f-8952-aff2dbbdd9e6",
   "metadata": {},
   "outputs": [
    {
     "name": "stdout",
     "output_type": "stream",
     "text": [
      "Requirement already satisfied: kaggle in d:\\documentos\\intart\\proyecto\\venv\\lib\\site-packages (1.7.4.5)\n",
      "Requirement already satisfied: bleach in d:\\documentos\\intart\\proyecto\\venv\\lib\\site-packages (from kaggle) (6.2.0)\n",
      "Requirement already satisfied: certifi>=14.05.14 in d:\\documentos\\intart\\proyecto\\venv\\lib\\site-packages (from kaggle) (2025.4.26)\n",
      "Requirement already satisfied: charset-normalizer in d:\\documentos\\intart\\proyecto\\venv\\lib\\site-packages (from kaggle) (3.4.2)\n",
      "Requirement already satisfied: idna in d:\\documentos\\intart\\proyecto\\venv\\lib\\site-packages (from kaggle) (3.10)\n",
      "Requirement already satisfied: protobuf in d:\\documentos\\intart\\proyecto\\venv\\lib\\site-packages (from kaggle) (6.31.1)\n",
      "Requirement already satisfied: python-dateutil>=2.5.3 in d:\\documentos\\intart\\proyecto\\venv\\lib\\site-packages (from kaggle) (2.9.0.post0)\n",
      "Requirement already satisfied: python-slugify in d:\\documentos\\intart\\proyecto\\venv\\lib\\site-packages (from kaggle) (8.0.4)\n",
      "Requirement already satisfied: requests in d:\\documentos\\intart\\proyecto\\venv\\lib\\site-packages (from kaggle) (2.32.3)\n",
      "Requirement already satisfied: setuptools>=21.0.0 in d:\\documentos\\intart\\proyecto\\venv\\lib\\site-packages (from kaggle) (80.9.0)\n",
      "Requirement already satisfied: six>=1.10 in d:\\documentos\\intart\\proyecto\\venv\\lib\\site-packages (from kaggle) (1.17.0)\n",
      "Requirement already satisfied: text-unidecode in d:\\documentos\\intart\\proyecto\\venv\\lib\\site-packages (from kaggle) (1.3)\n",
      "Requirement already satisfied: tqdm in d:\\documentos\\intart\\proyecto\\venv\\lib\\site-packages (from kaggle) (4.67.1)\n",
      "Requirement already satisfied: urllib3>=1.15.1 in d:\\documentos\\intart\\proyecto\\venv\\lib\\site-packages (from kaggle) (2.4.0)\n",
      "Requirement already satisfied: webencodings in d:\\documentos\\intart\\proyecto\\venv\\lib\\site-packages (from kaggle) (0.5.1)\n",
      "Requirement already satisfied: colorama in d:\\documentos\\intart\\proyecto\\venv\\lib\\site-packages (from tqdm->kaggle) (0.4.6)\n"
     ]
    },
    {
     "name": "stderr",
     "output_type": "stream",
     "text": [
      "\n",
      "[notice] A new release of pip is available: 24.0 -> 25.1.1\n",
      "[notice] To update, run: python.exe -m pip install --upgrade pip\n"
     ]
    }
   ],
   "source": [
    "#Instalamos la libreria de Kaggle en Python usando pip\n",
    "!pip install kaggle"
   ]
  },
  {
   "cell_type": "code",
   "execution_count": null,
   "id": "62d13607-92af-4681-919d-4f0f565b3a12",
   "metadata": {},
   "outputs": [],
   "source": [
    "#Creamos un directario para guardar el token de Kaggle\n",
    "import os\n",
    "\n",
    "os.path.expanduser(\"~/.kaggle\")"
   ]
  },
  {
   "cell_type": "markdown",
   "id": "106f4118-c984-4c6f-bace-eb335b1593f2",
   "metadata": {},
   "source": [
    "# Para el paso siguiente se necesita tener una cuenta de Kaggle\n",
    "En tu cuenta te diriges a Configuración/API/Crear nuevo token. <br> Esto va a descargar el archivo kaggle.json que tendrás que ubicar dentro de la carpeta \"kaggle\" en este directorio"
   ]
  },
  {
   "cell_type": "code",
   "execution_count": null,
   "id": "07156e7d-8da8-4bf0-97fa-038715d3a719",
   "metadata": {},
   "outputs": [],
   "source": [
    "#Descargamos el dataset usando la CLI de Kaggle\n",
    "!kaggle datasets download robikscube/textocr-text-extraction-from-images-dataset\n",
    "\n",
    "#Link del dataset:\n",
    "# https://www.kaggle.com/datasets/robikscube/textocr-text-extraction-from-images-dataset"
   ]
  },
  {
   "cell_type": "code",
   "execution_count": null,
   "id": "19c8c3e8-301f-4013-99f1-da8e04c0c9bf",
   "metadata": {},
   "outputs": [],
   "source": [
    "#Codigo para extraer archivo --proximamente--\n",
    "import zipfile\n",
    "import os\n",
    "zip_path = \"textocr-text-extraction-from-images-dataset.zip\"\n",
    "extract_dir = \"textocr_dataset\"\n",
    "\n",
    "os.makedirs(extract_dir, exist_ok=True)\n",
    "\n",
    "with zipfile.ZipFile(zip_path, 'r') as zip_ref:\n",
    "    zip_ref.extractall(extract_dir)"
   ]
  },
  {
   "cell_type": "code",
   "execution_count": 1,
   "id": "656cd55a-71e1-424b-9efe-bd8129f93c4a",
   "metadata": {},
   "outputs": [
    {
     "name": "stdout",
     "output_type": "stream",
     "text": [
      "Collecting pandas\n",
      "  Using cached pandas-2.2.3-cp312-cp312-win_amd64.whl.metadata (19 kB)\n",
      "Collecting numpy>=1.26.0 (from pandas)\n",
      "  Downloading numpy-2.2.6-cp312-cp312-win_amd64.whl.metadata (60 kB)\n",
      "     ---------------------------------------- 0.0/60.8 kB ? eta -:--:--\n",
      "     ------------ ------------------------- 20.5/60.8 kB 330.3 kB/s eta 0:00:01\n",
      "     ------------------------- ------------ 41.0/60.8 kB 393.8 kB/s eta 0:00:01\n",
      "     ------------------------------- ------ 51.2/60.8 kB 435.7 kB/s eta 0:00:01\n",
      "     -------------------------------------- 60.8/60.8 kB 358.9 kB/s eta 0:00:00\n",
      "Requirement already satisfied: python-dateutil>=2.8.2 in d:\\documentos\\intart\\proyecto\\venv\\lib\\site-packages (from pandas) (2.9.0.post0)\n",
      "Collecting pytz>=2020.1 (from pandas)\n",
      "  Using cached pytz-2025.2-py2.py3-none-any.whl.metadata (22 kB)\n",
      "Collecting tzdata>=2022.7 (from pandas)\n",
      "  Using cached tzdata-2025.2-py2.py3-none-any.whl.metadata (1.4 kB)\n",
      "Requirement already satisfied: six>=1.5 in d:\\documentos\\intart\\proyecto\\venv\\lib\\site-packages (from python-dateutil>=2.8.2->pandas) (1.17.0)\n",
      "Using cached pandas-2.2.3-cp312-cp312-win_amd64.whl (11.5 MB)\n",
      "Downloading numpy-2.2.6-cp312-cp312-win_amd64.whl (12.6 MB)\n",
      "   ---------------------------------------- 0.0/12.6 MB ? eta -:--:--\n",
      "   ---------------------------------------- 0.1/12.6 MB 2.0 MB/s eta 0:00:07\n",
      "    --------------------------------------- 0.2/12.6 MB 2.5 MB/s eta 0:00:05\n",
      "   - -------------------------------------- 0.3/12.6 MB 2.8 MB/s eta 0:00:05\n",
      "   - -------------------------------------- 0.5/12.6 MB 3.3 MB/s eta 0:00:04\n",
      "   -- ------------------------------------- 0.8/12.6 MB 3.8 MB/s eta 0:00:04\n",
      "   -- ------------------------------------- 0.9/12.6 MB 3.9 MB/s eta 0:00:04\n",
      "   -- ------------------------------------- 0.9/12.6 MB 3.9 MB/s eta 0:00:04\n",
      "   -- ------------------------------------- 0.9/12.6 MB 3.1 MB/s eta 0:00:04\n",
      "   --- ------------------------------------ 1.0/12.6 MB 2.8 MB/s eta 0:00:05\n",
      "   ----- ---------------------------------- 1.8/12.6 MB 4.5 MB/s eta 0:00:03\n",
      "   ------ --------------------------------- 2.0/12.6 MB 4.6 MB/s eta 0:00:03\n",
      "   ------ --------------------------------- 2.0/12.6 MB 4.6 MB/s eta 0:00:03\n",
      "   ------- -------------------------------- 2.4/12.6 MB 4.7 MB/s eta 0:00:03\n",
      "   -------- ------------------------------- 2.7/12.6 MB 4.7 MB/s eta 0:00:03\n",
      "   --------- ------------------------------ 2.9/12.6 MB 4.7 MB/s eta 0:00:03\n",
      "   --------- ------------------------------ 3.1/12.6 MB 4.7 MB/s eta 0:00:03\n",
      "   ---------- ----------------------------- 3.2/12.6 MB 4.7 MB/s eta 0:00:03\n",
      "   ---------- ----------------------------- 3.2/12.6 MB 4.6 MB/s eta 0:00:03\n",
      "   ---------- ----------------------------- 3.3/12.6 MB 4.3 MB/s eta 0:00:03\n",
      "   ----------- ---------------------------- 3.7/12.6 MB 4.6 MB/s eta 0:00:02\n",
      "   ------------ --------------------------- 4.0/12.6 MB 4.5 MB/s eta 0:00:02\n",
      "   ------------ --------------------------- 4.1/12.6 MB 4.5 MB/s eta 0:00:02\n",
      "   ------------- -------------------------- 4.2/12.6 MB 4.4 MB/s eta 0:00:02\n",
      "   ------------- -------------------------- 4.4/12.6 MB 4.4 MB/s eta 0:00:02\n",
      "   -------------- ------------------------- 4.6/12.6 MB 4.4 MB/s eta 0:00:02\n",
      "   --------------- ------------------------ 4.8/12.6 MB 4.4 MB/s eta 0:00:02\n",
      "   --------------- ------------------------ 5.0/12.6 MB 4.5 MB/s eta 0:00:02\n",
      "   ---------------- ----------------------- 5.2/12.6 MB 4.4 MB/s eta 0:00:02\n",
      "   ----------------- ---------------------- 5.4/12.6 MB 4.5 MB/s eta 0:00:02\n",
      "   ----------------- ---------------------- 5.5/12.6 MB 4.4 MB/s eta 0:00:02\n",
      "   ------------------ --------------------- 5.7/12.6 MB 4.4 MB/s eta 0:00:02\n",
      "   ------------------ --------------------- 5.9/12.6 MB 4.4 MB/s eta 0:00:02\n",
      "   ------------------ --------------------- 6.0/12.6 MB 4.4 MB/s eta 0:00:02\n",
      "   ------------------ --------------------- 6.0/12.6 MB 4.2 MB/s eta 0:00:02\n",
      "   ------------------- -------------------- 6.2/12.6 MB 4.3 MB/s eta 0:00:02\n",
      "   -------------------- ------------------- 6.3/12.6 MB 4.3 MB/s eta 0:00:02\n",
      "   -------------------- ------------------- 6.5/12.6 MB 4.2 MB/s eta 0:00:02\n",
      "   -------------------- ------------------- 6.5/12.6 MB 4.2 MB/s eta 0:00:02\n",
      "   -------------------- ------------------- 6.5/12.6 MB 4.2 MB/s eta 0:00:02\n",
      "   -------------------- ------------------- 6.6/12.6 MB 4.0 MB/s eta 0:00:02\n",
      "   --------------------- ------------------ 6.9/12.6 MB 4.1 MB/s eta 0:00:02\n",
      "   ---------------------- ----------------- 7.0/12.6 MB 4.0 MB/s eta 0:00:02\n",
      "   ---------------------- ----------------- 7.2/12.6 MB 4.1 MB/s eta 0:00:02\n",
      "   ----------------------- ---------------- 7.4/12.6 MB 4.0 MB/s eta 0:00:02\n",
      "   ----------------------- ---------------- 7.5/12.6 MB 4.0 MB/s eta 0:00:02\n",
      "   ------------------------ --------------- 7.7/12.6 MB 4.0 MB/s eta 0:00:02\n",
      "   ------------------------ --------------- 7.8/12.6 MB 4.0 MB/s eta 0:00:02\n",
      "   ------------------------- -------------- 8.0/12.6 MB 4.1 MB/s eta 0:00:02\n",
      "   ------------------------- -------------- 8.2/12.6 MB 4.1 MB/s eta 0:00:02\n",
      "   -------------------------- ------------- 8.3/12.6 MB 4.0 MB/s eta 0:00:02\n",
      "   -------------------------- ------------- 8.5/12.6 MB 4.1 MB/s eta 0:00:02\n",
      "   --------------------------- ------------ 8.7/12.6 MB 4.1 MB/s eta 0:00:01\n",
      "   --------------------------- ------------ 8.7/12.6 MB 4.0 MB/s eta 0:00:01\n",
      "   ---------------------------- ----------- 8.9/12.6 MB 4.0 MB/s eta 0:00:01\n",
      "   ---------------------------- ----------- 9.1/12.6 MB 4.0 MB/s eta 0:00:01\n",
      "   ----------------------------- ---------- 9.2/12.6 MB 4.0 MB/s eta 0:00:01\n",
      "   ----------------------------- ---------- 9.4/12.6 MB 4.0 MB/s eta 0:00:01\n",
      "   ------------------------------ --------- 9.5/12.6 MB 4.0 MB/s eta 0:00:01\n",
      "   ------------------------------ --------- 9.7/12.6 MB 4.0 MB/s eta 0:00:01\n",
      "   ------------------------------- -------- 9.8/12.6 MB 4.0 MB/s eta 0:00:01\n",
      "   ------------------------------- -------- 10.0/12.6 MB 4.0 MB/s eta 0:00:01\n",
      "   ------------------------------- -------- 10.0/12.6 MB 4.0 MB/s eta 0:00:01\n",
      "   ------------------------------- -------- 10.0/12.6 MB 4.0 MB/s eta 0:00:01\n",
      "   ------------------------------- -------- 10.0/12.6 MB 4.0 MB/s eta 0:00:01\n",
      "   ------------------------------- -------- 10.0/12.6 MB 4.0 MB/s eta 0:00:01\n",
      "   ------------------------------- -------- 10.0/12.6 MB 4.0 MB/s eta 0:00:01\n",
      "   -------------------------------- ------- 10.1/12.6 MB 3.6 MB/s eta 0:00:01\n",
      "   -------------------------------- ------- 10.2/12.6 MB 3.6 MB/s eta 0:00:01\n",
      "   -------------------------------- ------- 10.3/12.6 MB 3.6 MB/s eta 0:00:01\n",
      "   -------------------------------- ------- 10.3/12.6 MB 3.6 MB/s eta 0:00:01\n",
      "   --------------------------------- ------ 10.5/12.6 MB 3.6 MB/s eta 0:00:01\n",
      "   --------------------------------- ------ 10.7/12.6 MB 3.6 MB/s eta 0:00:01\n",
      "   ---------------------------------- ----- 10.9/12.6 MB 3.6 MB/s eta 0:00:01\n",
      "   ----------------------------------- ---- 11.1/12.6 MB 3.7 MB/s eta 0:00:01\n",
      "   ----------------------------------- ---- 11.3/12.6 MB 3.7 MB/s eta 0:00:01\n",
      "   ----------------------------------- ---- 11.3/12.6 MB 3.7 MB/s eta 0:00:01\n",
      "   ------------------------------------ --- 11.5/12.6 MB 3.6 MB/s eta 0:00:01\n",
      "   ------------------------------------- -- 11.7/12.6 MB 3.6 MB/s eta 0:00:01\n",
      "   ------------------------------------- -- 11.9/12.6 MB 3.6 MB/s eta 0:00:01\n",
      "   -------------------------------------- - 12.0/12.6 MB 3.5 MB/s eta 0:00:01\n",
      "   -------------------------------------- - 12.1/12.6 MB 3.5 MB/s eta 0:00:01\n",
      "   ---------------------------------------  12.4/12.6 MB 3.5 MB/s eta 0:00:01\n",
      "   ---------------------------------------  12.5/12.6 MB 3.5 MB/s eta 0:00:01\n",
      "   ---------------------------------------  12.6/12.6 MB 3.5 MB/s eta 0:00:01\n",
      "   ---------------------------------------- 12.6/12.6 MB 3.4 MB/s eta 0:00:00\n",
      "Using cached pytz-2025.2-py2.py3-none-any.whl (509 kB)\n",
      "Using cached tzdata-2025.2-py2.py3-none-any.whl (347 kB)\n",
      "Installing collected packages: pytz, tzdata, numpy, pandas\n",
      "Successfully installed numpy-2.2.6 pandas-2.2.3 pytz-2025.2 tzdata-2025.2\n"
     ]
    },
    {
     "name": "stderr",
     "output_type": "stream",
     "text": [
      "\n",
      "[notice] A new release of pip is available: 24.0 -> 25.1.1\n",
      "[notice] To update, run: python.exe -m pip install --upgrade pip\n"
     ]
    }
   ],
   "source": [
    "#Instalamos la librería de pandas\n",
    "!pip install pandas"
   ]
  },
  {
   "cell_type": "code",
   "execution_count": 3,
   "id": "640e3d9e-6a6b-4183-a2c8-b10cee1fee72",
   "metadata": {},
   "outputs": [],
   "source": [
    "import os\n",
    "import pandas as pd\n",
    "\n",
    "# Ruta al directorio de imágenes\n",
    "img_path = \"textocr_dataset/train_val_images/train_images\"\n",
    "\n",
    "# Agregamos los nombres de los archivos\n",
    "img = os.listdir(img_path)\n",
    "\n",
    "# Tomamos las primeras n archivos, en este caso vamos a irnos con 5000\n",
    "n = 5000\n",
    "img_data = sorted(img)[:n]\n",
    "\n",
    "# Convertimos la lista a un set\n",
    "img_data = [img.replace('.jpg', '') for img in img_data]\n",
    "img_ids = set(img_data)"
   ]
  },
  {
   "cell_type": "code",
   "execution_count": 4,
   "id": "f3882008-d154-4e84-a630-6be5a381bca0",
   "metadata": {},
   "outputs": [
    {
     "name": "stdout",
     "output_type": "stream",
     "text": [
      "       Unnamed: 0                id  width  height    set  \\\n",
      "0               0  a4ea732cd3d5948a    840    1024  train   \n",
      "1               1  4bf43a7b2a898044   1024     683  train   \n",
      "2               2  1b55b309b0f50d02   1024     683  train   \n",
      "3               3  00c359f294f7dcd9   1024     680  train   \n",
      "4               4  04b5a37f762b0f51    768    1024  train   \n",
      "...           ...               ...    ...     ...    ...   \n",
      "21773       21773  d13b7ec72bd5eed5   1024     683  train   \n",
      "21774       21774  0022933cdceee189   1024     554  train   \n",
      "21775       21775  6029c75e0325d164   1024     768  train   \n",
      "21776       21776  0ebbecdc46b78d42   1024     681  train   \n",
      "21777       21777  a37e1fb026b80a6d   1024     683  train   \n",
      "\n",
      "                        file_name  \n",
      "0      train/a4ea732cd3d5948a.jpg  \n",
      "1      train/4bf43a7b2a898044.jpg  \n",
      "2      train/1b55b309b0f50d02.jpg  \n",
      "3      train/00c359f294f7dcd9.jpg  \n",
      "4      train/04b5a37f762b0f51.jpg  \n",
      "...                           ...  \n",
      "21773  train/d13b7ec72bd5eed5.jpg  \n",
      "21774  train/0022933cdceee189.jpg  \n",
      "21775  train/6029c75e0325d164.jpg  \n",
      "21776  train/0ebbecdc46b78d42.jpg  \n",
      "21777  train/a37e1fb026b80a6d.jpg  \n",
      "\n",
      "[21778 rows x 6 columns]\n",
      "         Unnamed: 0                   id          image_id  \\\n",
      "0                 0   a4ea732cd3d5948a_1  a4ea732cd3d5948a   \n",
      "1                 1   a4ea732cd3d5948a_2  a4ea732cd3d5948a   \n",
      "2                 2   a4ea732cd3d5948a_3  a4ea732cd3d5948a   \n",
      "3                 3   a4ea732cd3d5948a_4  a4ea732cd3d5948a   \n",
      "4                 4   a4ea732cd3d5948a_5  a4ea732cd3d5948a   \n",
      "...             ...                  ...               ...   \n",
      "1052349     1052349  0ebbecdc46b78d42_15  0ebbecdc46b78d42   \n",
      "1052350     1052350   a37e1fb026b80a6d_1  a37e1fb026b80a6d   \n",
      "1052351     1052351   a37e1fb026b80a6d_2  a37e1fb026b80a6d   \n",
      "1052352     1052352   a37e1fb026b80a6d_3  a37e1fb026b80a6d   \n",
      "1052353     1052353   a37e1fb026b80a6d_4  a37e1fb026b80a6d   \n",
      "\n",
      "                                     bbox  utf8_string  \\\n",
      "0            [525.83, 3.4, 197.64, 33.94]  Performance   \n",
      "1           [534.67, 64.68, 91.22, 38.19]        Sport   \n",
      "2           [626.95, 63.62, 96.52, 31.82]        Watch   \n",
      "3           [577.4, 141.87, 147.13, 43.1]   ...period.   \n",
      "4           [391.03, 163.9, 60.82, 38.65]            .   \n",
      "...                                   ...          ...   \n",
      "1052349     [267.47, -0.14, 28.18, 27.47]            .   \n",
      "1052350  [331.69, 462.84, 417.31, 201.08]          RÖR   \n",
      "1052351    [876.75, 285.63, 36.98, 10.28]      Moderna   \n",
      "1052352    [913.53, 282.86, 32.23, 11.27]       Museet   \n",
      "1052353    [883.47, 302.44, 68.42, 10.88]            .   \n",
      "\n",
      "                                                    points      area  \n",
      "0        [525.83, 3.4, 723.47, 7.29, 722.76, 36.99, 525...   6707.90  \n",
      "1        [535.73, 64.68, 623.41, 67.51, 625.89, 102.87,...   3483.69  \n",
      "2        [626.95, 63.62, 721.7, 63.62, 723.47, 95.44, 6...   3071.27  \n",
      "3        [580.02, 143.61, 724.53, 141.87, 723.66, 184.9...   6341.30  \n",
      "4        [395.2, 163.9, 451.85, 191.94, 445.59, 202.55,...   2350.69  \n",
      "...                                                    ...       ...  \n",
      "1052349  [295.65, -0.14, 295.65, 27.33, 267.47, 27.03, ...    774.10  \n",
      "1052350  [331.69, 466.97, 749.0, 462.84, 749.0, 659.79,...  83912.69  \n",
      "1052351  [876.75, 287.61, 912.34, 285.63, 913.73, 293.9...    380.15  \n",
      "1052352  [913.53, 284.84, 944.77, 282.86, 945.76, 292.3...    363.23  \n",
      "1052353  [883.47, 304.02, 950.71, 302.44, 951.89, 311.5...    744.41  \n",
      "\n",
      "[1052354 rows x 7 columns]\n"
     ]
    }
   ],
   "source": [
    "#Leemos el contenido de los parquet\n",
    "img_df = pd.read_csv(\"textocr_dataset/img.csv\")\n",
    "annot_df = pd.read_csv(\"textocr_dataset/annot.csv\")\n",
    "\n",
    "print(img_df)\n",
    "print(annot_df)"
   ]
  },
  {
   "cell_type": "code",
   "execution_count": 5,
   "id": "e45f11c9-8a14-4828-b1a4-a771ffb29e3f",
   "metadata": {},
   "outputs": [
    {
     "name": "stdout",
     "output_type": "stream",
     "text": [
      "Index(['Unnamed: 0', 'id', 'width', 'height', 'file_name'], dtype='object')\n"
     ]
    }
   ],
   "source": [
    "#Como todos las imagenes estan marcados como 'train' en la columna 'set' la vamos a quitar\n",
    "img_df.drop(columns=['set'], inplace=True)\n",
    "print(img_df.columns)"
   ]
  },
  {
   "cell_type": "code",
   "execution_count": 11,
   "id": "d1dd1497-17b0-4035-b0fc-77423e9b7dfc",
   "metadata": {},
   "outputs": [
    {
     "name": "stdout",
     "output_type": "stream",
     "text": [
      "       Unnamed: 0                id  width  height  \\\n",
      "3               3  00c359f294f7dcd9   1024     680   \n",
      "4               4  04b5a37f762b0f51    768    1024   \n",
      "7               7  01ee1b7395e1d8c4   1024     575   \n",
      "13             13  171e532e7edaf8f9    819    1024   \n",
      "22             22  00ca922eb4890a3b   1024     680   \n",
      "...           ...               ...    ...     ...   \n",
      "21759       21759  119910df6c55fbeb   1024     768   \n",
      "21760       21760  132bb87427676a1b   1024     768   \n",
      "21761       21761  1626d26351c41a0f   1024     768   \n",
      "21774       21774  0022933cdceee189   1024     554   \n",
      "21776       21776  0ebbecdc46b78d42   1024     681   \n",
      "\n",
      "                        file_name            id_str  \n",
      "3      train/00c359f294f7dcd9.jpg  00c359f294f7dcd9  \n",
      "4      train/04b5a37f762b0f51.jpg  04b5a37f762b0f51  \n",
      "7      train/01ee1b7395e1d8c4.jpg  01ee1b7395e1d8c4  \n",
      "13     train/171e532e7edaf8f9.jpg  171e532e7edaf8f9  \n",
      "22     train/00ca922eb4890a3b.jpg  00ca922eb4890a3b  \n",
      "...                           ...               ...  \n",
      "21759  train/119910df6c55fbeb.jpg  119910df6c55fbeb  \n",
      "21760  train/132bb87427676a1b.jpg  132bb87427676a1b  \n",
      "21761  train/1626d26351c41a0f.jpg  1626d26351c41a0f  \n",
      "21774  train/0022933cdceee189.jpg  0022933cdceee189  \n",
      "21776  train/0ebbecdc46b78d42.jpg  0ebbecdc46b78d42  \n",
      "\n",
      "[4288 rows x 6 columns]\n"
     ]
    }
   ],
   "source": [
    "#img_df[\"id_str\"] = img_df[\"id\"].astype(str)\n",
    "\n",
    "img_df = img_df[img_df[\"id_str\"].isin(img_ids)]\n",
    "print(img_df)"
   ]
  },
  {
   "cell_type": "code",
   "execution_count": 12,
   "id": "6d960c96-710d-48b0-8eff-e30a60473f35",
   "metadata": {},
   "outputs": [
    {
     "name": "stdout",
     "output_type": "stream",
     "text": [
      "         Unnamed: 0                   id          image_id  \\\n",
      "85               85   00c359f294f7dcd9_1  00c359f294f7dcd9   \n",
      "86               86   00c359f294f7dcd9_2  00c359f294f7dcd9   \n",
      "87               87   00c359f294f7dcd9_3  00c359f294f7dcd9   \n",
      "88               88   04b5a37f762b0f51_1  04b5a37f762b0f51   \n",
      "89               89   04b5a37f762b0f51_2  04b5a37f762b0f51   \n",
      "...             ...                  ...               ...   \n",
      "1052345     1052345  0ebbecdc46b78d42_11  0ebbecdc46b78d42   \n",
      "1052346     1052346  0ebbecdc46b78d42_12  0ebbecdc46b78d42   \n",
      "1052347     1052347  0ebbecdc46b78d42_13  0ebbecdc46b78d42   \n",
      "1052348     1052348  0ebbecdc46b78d42_14  0ebbecdc46b78d42   \n",
      "1052349     1052349  0ebbecdc46b78d42_15  0ebbecdc46b78d42   \n",
      "\n",
      "                                     bbox utf8_string  \\\n",
      "85        [322.37, 368.64, 118.63, 51.07]      G-ATCO   \n",
      "86         [865.36, 322.28, 33.92, 11.57]       HUSKY   \n",
      "87         [150.68, 313.56, 19.87, 18.85]           +   \n",
      "88         [217.83, 302.27, 98.68, 45.38]         OUR   \n",
      "89        [329.21, 301.01, 287.69, 54.09]  NEIGHBORS,   \n",
      "...                                   ...         ...   \n",
      "1052345     [431.72, 384.82, 71.7, 62.85]         100   \n",
      "1052346     [737.9, 520.14, 68.91, 29.64]           .   \n",
      "1052347   [507.16, 273.18, 100.7, 135.01]           7   \n",
      "1052348  [387.77, 149.05, 104.33, 127.75]           8   \n",
      "1052349     [267.47, -0.14, 28.18, 27.47]           .   \n",
      "\n",
      "                                                    points      area  \\\n",
      "85       [322.37, 391.39, 436.35, 368.64, 441.0, 400.44...   6058.43   \n",
      "86       [865.36, 327.84, 897.5, 322.28, 899.28, 328.4,...    392.45   \n",
      "87       [150.68, 315.94, 168.73, 313.56, 170.55, 330.9...    374.55   \n",
      "88       [218.66, 302.27, 316.51, 303.52, 315.68, 347.6...   4478.10   \n",
      "89       [329.21, 301.01, 615.75, 301.59, 616.9, 355.1,...  15561.15   \n",
      "...                                                    ...       ...   \n",
      "1052345  [451.74, 384.82, 503.42, 426.87, 484.8, 447.67...   4506.35   \n",
      "1052346  [737.9, 520.14, 806.81, 520.29, 806.81, 549.78...   2042.49   \n",
      "1052347  [507.16, 273.46, 607.86, 273.18, 606.19, 407.9...  13595.51   \n",
      "1052348  [387.77, 149.05, 492.1, 149.6, 491.26, 276.8, ...  13328.16   \n",
      "1052349  [295.65, -0.14, 295.65, 27.33, 267.47, 27.03, ...    774.10   \n",
      "\n",
      "             image_id_str  \n",
      "85       00c359f294f7dcd9  \n",
      "86       00c359f294f7dcd9  \n",
      "87       00c359f294f7dcd9  \n",
      "88       04b5a37f762b0f51  \n",
      "89       04b5a37f762b0f51  \n",
      "...                   ...  \n",
      "1052345  0ebbecdc46b78d42  \n",
      "1052346  0ebbecdc46b78d42  \n",
      "1052347  0ebbecdc46b78d42  \n",
      "1052348  0ebbecdc46b78d42  \n",
      "1052349  0ebbecdc46b78d42  \n",
      "\n",
      "[179415 rows x 8 columns]\n"
     ]
    }
   ],
   "source": [
    "#annot_df[\"image_id_str\"] = annot_df[\"image_id\"].astype(str)\n",
    "\n",
    "annot_df = annot_df[annot_df[\"image_id_str\"].isin(img_ids)]\n",
    "print(annot_df)"
   ]
  },
  {
   "cell_type": "code",
   "execution_count": null,
   "id": "2725f32d-7648-4c0d-b1f1-57c5c9e48f7d",
   "metadata": {},
   "outputs": [],
   "source": []
  }
 ],
 "metadata": {
  "kernelspec": {
   "display_name": "Python 3 (ipykernel)",
   "language": "python",
   "name": "python3"
  },
  "language_info": {
   "codemirror_mode": {
    "name": "ipython",
    "version": 3
   },
   "file_extension": ".py",
   "mimetype": "text/x-python",
   "name": "python",
   "nbconvert_exporter": "python",
   "pygments_lexer": "ipython3",
   "version": "3.12.4"
  }
 },
 "nbformat": 4,
 "nbformat_minor": 5
}
